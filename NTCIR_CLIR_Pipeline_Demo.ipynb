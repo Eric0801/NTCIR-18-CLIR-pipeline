{
 "cells": [
  {
   "cell_type": "markdown",
   "id": "9a970c1b",
   "metadata": {},
   "source": [
    "# 📘 Cross-Lingual Financial Document Retrieval Pipeline\n",
    "Built with layout-aware PDF preprocessing, query translation, and BM25 retrieval."
   ]
  },
  {
   "cell_type": "code",
   "execution_count": null,
   "id": "0c4d7ceb",
   "metadata": {},
   "outputs": [],
   "source": [
    "# 📦 Step 1: Setup Environment\n",
    "!apt install poppler-utils -y\n",
    "!pip install pymupdf easyocr pdf2image rank_bm25 openai\n",
    "import os"
   ]
  },
  {
   "cell_type": "code",
   "execution_count": null,
   "id": "0127f731",
   "metadata": {},
   "outputs": [],
   "source": [
    "# 📂 Mount Google Drive\n",
    "from google.colab import drive\n",
    "drive.mount('/content/drive')"
   ]
  },
  {
   "cell_type": "code",
   "execution_count": null,
   "id": "a5e710c3",
   "metadata": {},
   "outputs": [],
   "source": [
    "# 📁 Unzip provided layout-aware pipeline\n",
    "!unzip /content/drive/MyDrive/layout_pipeline_colab_demo.zip -d /content/"
   ]
  },
  {
   "cell_type": "code",
   "execution_count": null,
   "id": "3d8bbdd6",
   "metadata": {},
   "outputs": [],
   "source": [
    "# 🧱 Step 2: Preprocess PDFs into structured passages\n",
    "import layout_pipeline.layout_segmenter_easyocr as layout\n",
    "layout.process_folder(\n",
    "    pdf_folder=\"/content/drive/MyDrive/pdfs\", \n",
    "    output_jsonl=\"/content/structured_passages.jsonl\"\n",
    ")"
   ]
  },
  {
   "cell_type": "code",
   "execution_count": null,
   "id": "82a3e56d",
   "metadata": {},
   "outputs": [],
   "source": [
    "# 🌐 Step 3: Translate queries (placeholder for GPT/HF model)\n",
    "import json\n",
    "queries = [{\"qid\": \"q1\", \"text_en\": \"What is the premium for travel insurance?\"}]\n",
    "translated = [{\"qid\": q[\"qid\"], \"text_zh\": \"旅遊保險的保費是多少？\"} for q in queries]\n",
    "with open(\"translated_queries.json\", \"w\", encoding=\"utf-8\") as f:\n",
    "    json.dump(translated, f, ensure_ascii=False, indent=2)"
   ]
  },
  {
   "cell_type": "markdown",
   "id": "45ff0bef",
   "metadata": {},
   "source": [
    "### 2. Translate (GPT 3.5)"
   ]
  },
  {
   "cell_type": "code",
   "execution_count": null,
   "id": "86d9472e",
   "metadata": {},
   "outputs": [],
   "source": [
    "# 🌐 GPT-based Query Translation\n",
    "import openai\n",
    "import json\n",
    "from tqdm import tqdm\n",
    "\n",
    "openai.api_key = \"your-api-key-here\"  # Replace with your actual API key\n",
    "\n",
    "def translate_with_gpt(query_en, model=\"gpt-3.5-turbo\"):\n",
    "    messages = [\n",
    "        {\"role\": \"system\", \"content\": \"You are a professional translator who translates English financial search queries into Traditional Chinese.\"},\n",
    "        {\"role\": \"user\", \"content\": f\"Translate this search query into Traditional Chinese: '{query_en}'\"}\n",
    "    ]\n",
    "    try:\n",
    "        response = openai.ChatCompletion.create(\n",
    "            model=model,\n",
    "            messages=messages,\n",
    "            temperature=0,\n",
    "        )\n",
    "        return response.choices[0].message.content.strip()\n",
    "    except Exception as e:\n",
    "        print(f\"Error translating query: {query_en} -> {e}\")\n",
    "        return \"\"\n",
    "\n",
    "# Load and translate queries\n",
    "with open(\"questions_example.json\", \"r\", encoding=\"utf-8\") as f:\n",
    "    queries = json.load(f)\n",
    "\n",
    "translated = []\n",
    "for item in tqdm(queries, desc=\"Translating\"):\n",
    "    zh = translate_with_gpt(item[\"text_en\"])\n",
    "    translated.append({\n",
    "        \"qid\": item[\"qid\"],\n",
    "        \"text_en\": item[\"text_en\"],\n",
    "        \"text_zh\": zh\n",
    "    })\n",
    "\n",
    "with open(\"translated_queries.json\", \"w\", encoding=\"utf-8\") as f:\n",
    "    json.dump(translated, f, ensure_ascii=False, indent=2)\n"
   ]
  },
  {
   "cell_type": "code",
   "execution_count": null,
   "id": "8f45c309",
   "metadata": {},
   "outputs": [],
   "source": [
    "# 🔍 Step 4: Basic BM25 Retrieval (placeholder)\n",
    "from rank_bm25 import BM25Okapi\n",
    "\n",
    "# Load passages\n",
    "import pandas as pd\n",
    "with open(\"structured_passages.jsonl\", \"r\") as f:\n",
    "    passages = [json.loads(line) for line in f]\n",
    "documents = [p[\"text\"] for p in passages]\n",
    "bm25 = BM25Okapi([d.split() for d in documents])\n",
    "\n",
    "# Run retrieval\n",
    "query = \"旅遊保險的保費是多少？\"\n",
    "scores = bm25.get_scores(query.split())\n",
    "top_k = sorted(zip(scores, passages), reverse=True)[:5]\n",
    "for score, passage in top_k:\n",
    "    print(f\"[Score: {score:.2f}] {passage['text'][:100]}\")"
   ]
  },
  {
   "cell_type": "code",
   "execution_count": null,
   "id": "8f51e030",
   "metadata": {},
   "outputs": [],
   "source": [
    "# 📊 Step 5: Evaluation Setup (Mocked)\n",
    "ground_truth = {\"q1\": [\"1032_p1_b0\"]}\n",
    "retrieved_pids = [p[\"pid\"] for _, p in top_k]\n",
    "\n",
    "recall = len(set(retrieved_pids) & set(ground_truth[\"q1\"])) / len(ground_truth[\"q1\"])\n",
    "print(\"Recall@5:\", recall)"
   ]
  }
 ],
 "metadata": {
  "language_info": {
   "name": "python"
  }
 },
 "nbformat": 4,
 "nbformat_minor": 5
}
